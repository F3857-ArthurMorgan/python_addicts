isim = input("Merhaba bilet fiyatını öğrenmek için isminizi giriniz : ")
isim = isim.strip().title()
seçenek = ["Yes", "No"]
özel_tarifeler = ["Hessen", "Berlin", "Bavaria"]

ülke = input("Sevgili {} Almanya vatandaşlığına sahipmisin?".format(isim))
ülke = ülke.title().strip()

while ülke not in seçenek:
    print("soruları sadece 'yes' veya 'no' şeklinde cevaplayabilirsin")
    ülke = input("Sevgili {} Almanya vatandaşlığına sahipmisin?".format(isim))
    ülke = ülke.title().strip()

eyalet = input("Hangi eyaletde yaşıyorsun:")
eyalet = eyalet.strip().title()

yaş = int(input("Son olarak yaşınızı öğrenebilirmiyim:").format(isim))
olası_yaş = list(range(0, 100))
while yaş not in olası_yaş:
    print("yaşınızı doğru ve sayı olarak giriniz")
    yaş = int(input("{} Bey son olarak yaşınız kaç:").format(isim))

print("sevgili {} Sormuş olduğum sorulara göre vermiş olduğunuz cevaplara aşşağıdaır.\nikamet ettiğiniz bölge : {}\nyaşınız : {}\nAlman vatandaşlığı varmı : {} ".format(isim, eyalet,yaş,ülke))

if eyalet == özel_tarifeler[0]:
    if  yaş>67:
        print("Hiçbir ücret ödemenize gerk yok. iyi yolculuklar...")
    else :
        print("Bilet için ödiyeceğiniz tutar : 15€")
    
elif eyalet in özel_tarifeler[1]:
        print("Tüm vatandaşlar için fiyat sabittir : 20€")
elif eyalet in özel_tarifeler[2]:
    if yaş>67:
        print("ödemeniz gereken tutar : 9€")
    else:
        print("ödemeniz gereken tutar 18€")
elif ülke in seçenek:
    print("ödemeniz gereken tutar birçok eyaletde belirlenen ortak tutardır : 25€")
else:
    print("Alman vatandaşı olmadığınız için ödeyeceğiniz tutat : 119€")
