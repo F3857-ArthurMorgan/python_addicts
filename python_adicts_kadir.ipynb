{
 "cells": [
  {
   "cell_type": "markdown",
   "metadata": {},
   "source": [
    "Hayat pahalılığı ve artan fiyatlar nedeniyle yaşamı kolaylaştırmak için Almanya'daki çeşitli eyaletler toplu taşımada halka yönelik kolaylıklar sağladı. Sadece Alman vatandaşı olanların yararlanabildiği bu uygulama kapsamında;\n",
    "\n",
    "-\tHessen eyaletinde 67 yaş üstü yaşlılar için ulaşım bedava yapılırken, diğer vatandaşlar için aylık bilet fiyatı 15 Euro olarak belirlendi.\n",
    "\n",
    "-\tBerlin eyaletinde tüm vatandaşlar için 20 Euroluk bir aylık bilet fiyatı belirlendi.\n",
    "\n",
    "-\tBavaria eyaleti 18 Euro'luk bir fiyat belirlerken, 67 yaş üstü için bilet fiyatı 9 Euro olarak belirilendi.\n",
    "\n",
    "-\tDiğer tüm eyaletler ise herkes için 25 Euro'luk ortak bir bilet fiyatı belirledi.\n",
    "\n",
    "- Alman vatandaşı olmayanların ise aylık bilet için 119 Euro ödemesi kararlaştırıldı.\n",
    "\n",
    "Buna göre, yazın Almanya'da bulunmuş bir kişiden Alman vatandaşı olup olmadığı ve yaş gibi özelliklerine dair bilgi alarak yaşadığı eyalete göre aylık bilet için kaç Euro ödemesi gerektiğini gösteren bir kod yazınız. (Not: Kullanıcı bilgisi alırken kullanıcının büyük küçük harf girmesi ihtimaline duyarlı bir kod yazınız)"
   ]
  },
  {
   "cell_type": "code",
   "execution_count": 3,
   "metadata": {},
   "outputs": [
    {
     "name": "stdout",
     "output_type": "stream",
     "text": [
      "sevgili Burak Sormuş olduğum sorulara göre vermiş olduğunuz cevaplara aşşağıdaır.\n",
      "ikamet ettiğiniz bölge : Sanane\n",
      "yaşınız : 25\n",
      "Alman vatandaşlığı varmı : Yes \n",
      "ödemeniz gereken tutar birçok eyaletde belirlenen ortak tutardır : 25€\n"
     ]
    }
   ],
   "source": [
    "isim = input(\"Merhaba bilet fiyatını öğrenmek için isminizi giriniz : \")\n",
    "isim = isim.strip().title()\n",
    "seçenek = [\"Yes\", \"No\"]\n",
    "özel_tarifeler = [\"Hessen\", \"Berlin\", \"Bavaria\"]\n",
    "\n",
    "ülke = input(\"Sevgili {} Almanya vatandaşlığına sahipmisin?\".format(isim))\n",
    "ülke = ülke.title().strip()\n",
    "\n",
    "while ülke not in seçenek:\n",
    "    print(\"soruları sadece 'yes' veya 'no' şeklinde cevaplayabilirsin\")\n",
    "    ülke = input(\"Sevgili {} Almanya vatandaşlığına sahipmisin?\".format(isim))\n",
    "    ülke = ülke.title().strip()\n",
    "\n",
    "eyalet = input(\"Hangi eyaletde yaşıyorsun:\")\n",
    "eyalet = eyalet.strip().title()\n",
    "\n",
    "yaş = int(input(\"Son olarak yaşınızı öğrenebilirmiyim:\").format(isim))\n",
    "olası_yaş = list(range(0, 100))\n",
    "while yaş not in olası_yaş:\n",
    "    print(\"yaşınızı doğru ve sayı olarak giriniz\")\n",
    "    yaş = int(input(\"{} Bey son olarak yaşınız kaç:\").format(isim))\n",
    "\n",
    "print(\"sevgili {} Sormuş olduğum sorulara göre vermiş olduğunuz cevaplara aşşağıdaır.\\nikamet ettiğiniz bölge : {}\\nyaşınız : {}\\nAlman vatandaşlığı varmı : {} \".format(isim, eyalet,yaş,ülke))\n",
    "\n",
    "if eyalet == özel_tarifeler[0]:\n",
    "    if  yaş>67:\n",
    "        print(\"Hiçbir ücret ödemenize gerk yok. iyi yolculuklar...\")\n",
    "    else :\n",
    "        print(\"Bilet için ödiyeceğiniz tutar : 15€\")\n",
    "    \n",
    "elif eyalet in özel_tarifeler[1]:\n",
    "        print(\"Tüm vatandaşlar için fiyat sabittir : 20€\")\n",
    "elif eyalet in özel_tarifeler[2]:\n",
    "    if yaş>67:\n",
    "        print(\"ödemeniz gereken tutar : 9€\")\n",
    "    else:\n",
    "        print(\"ödemeniz gereken tutar 18€\")\n",
    "elif ülke in seçenek:\n",
    "    print(\"ödemeniz gereken tutar birçok eyaletde belirlenen ortak tutardır : 25€\")\n",
    "else:\n",
    "    print(\"Alman vatandaşı olmadığınız için ödeyeceğiniz tutat : 119€\")"
   ]
  }
 ],
 "metadata": {
  "kernelspec": {
   "display_name": "Python 3.9.13 64-bit (microsoft store)",
   "language": "python",
   "name": "python3"
  },
  "language_info": {
   "codemirror_mode": {
    "name": "ipython",
    "version": 3
   },
   "file_extension": ".py",
   "mimetype": "text/x-python",
   "name": "python",
   "nbconvert_exporter": "python",
   "pygments_lexer": "ipython3",
   "version": "3.9.13"
  },
  "orig_nbformat": 4,
  "vscode": {
   "interpreter": {
    "hash": "e30c81a57d29f20af79f1c26e26a4b70f444d6368a588f5569884b7f950a4e21"
   }
  }
 },
 "nbformat": 4,
 "nbformat_minor": 2
}

# Bu da benim cevap

country = input("What country do you live in? : ").capitalize().strip()

if country == "Almanya":
  age = int(input("Enter your age: "))
  state = input("What state do you live in? :").capitalize().strip()
  provinces = ["Hessen", "Berlin", "Bavaria"]
  if state == "Hessen":
    if age > 67:
      ticket_cost = "You will not be charged for the ticket"
    else :
      ticket_cost = 15
  elif state == "Berlin" :
    ticket_cost = 20
  elif state == "Bavaria" :
    if age > 67 :
      ticket_cost = 9
    else :
      ticket_cost = 18
  else :
    ticket_cost = 25
  print(f"You have to pay {ticket_cost} Euro for monthly ticket.")
else : 
  ticket_cost = 119
  print(f"You have to pay {ticket_cost} Euro for monthly ticket.")
